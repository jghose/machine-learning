{
 "cells": [
  {
   "cell_type": "code",
   "execution_count": 398,
   "metadata": {},
   "outputs": [],
   "source": [
    "%matplotlib inline\n",
    "import numpy as np\n",
    "import matplotlib.pyplot as plt\n",
    "import pandas as pd\n",
    "import glob\n",
    "\n"
   ]
  },
  {
   "cell_type": "code",
   "execution_count": 399,
   "metadata": {},
   "outputs": [
    {
     "name": "stdout",
     "output_type": "stream",
     "text": [
      "<class 'pandas.core.frame.DataFrame'>\n",
      "RangeIndex: 9471 entries, 0 to 9470\n",
      "Data columns (total 17 columns):\n",
      "Date             9357 non-null object\n",
      "Time             9357 non-null object\n",
      "CO(GT)           9357 non-null float64\n",
      "PT08.S1(CO)      9357 non-null float64\n",
      "NMHC(GT)         9357 non-null float64\n",
      "C6H6(GT)         9357 non-null float64\n",
      "PT08.S2(NMHC)    9357 non-null float64\n",
      "NOx(GT)          9357 non-null float64\n",
      "PT08.S3(NOx)     9357 non-null float64\n",
      "NO2(GT)          9357 non-null float64\n",
      "PT08.S4(NO2)     9357 non-null float64\n",
      "PT08.S5(O3)      9357 non-null float64\n",
      "T                9357 non-null float64\n",
      "RH               9357 non-null float64\n",
      "AH               9357 non-null float64\n",
      "Unnamed: 15      0 non-null float64\n",
      "Unnamed: 16      0 non-null float64\n",
      "dtypes: float64(15), object(2)\n",
      "memory usage: 1.2+ MB\n"
     ]
    }
   ],
   "source": [
    "#Reading data \n",
    "\n",
    "data= pd.read_csv('AirQualityUCI.csv')\n",
    "data.info()\n"
   ]
  },
  {
   "cell_type": "code",
   "execution_count": 400,
   "metadata": {
    "scrolled": true
   },
   "outputs": [
    {
     "name": "stdout",
     "output_type": "stream",
     "text": [
      "finding correlation between PT08.S4(NO2) and PT08.S5(O3) =  0.7236584719357966\n"
     ]
    }
   ],
   "source": [
    "#initializing inputs and outputs\n",
    "\n",
    "\n",
    "X1 = data['PT08.S4(NO2)'] #changing different paraments of data will change the accuracy \n",
    "\n",
    "X= X1.head(300)\n",
    "Y = data['PT08.S5(O3)']\n",
    "\n",
    "# correlation between data\n",
    "correlation = data[\"PT08.S4(NO2)\"].corr(data[\"PT08.S5(O3)\"], method=\"pearson\")\n",
    "print(\"finding correlation between PT08.S4(NO2) and PT08.S5(O3) = \",correlation)\n"
   ]
  },
  {
   "cell_type": "code",
   "execution_count": 401,
   "metadata": {},
   "outputs": [],
   "source": [
    "# formula\n",
    "# m =  SUM( (Xi-X_bar)(Yi-Y_bar) ) / SUM((Xi-Xbar)^2)\n",
    "\n",
    "# c = Y- b1 * X\n",
    "\n",
    "# Y = b1 * x + b0\n",
    "\n",
    "# Xi= inputs\n",
    "\n",
    "# X_bar= mean of input variables\n",
    "\n",
    "# Yi= outputs\n",
    "\n",
    "# Y_bar= mean of output variables\n",
    "\n",
    "\n",
    "# RMSE = ROOT((1/N)(SUM(Yi -Y_th_PREDTICED)))\n"
   ]
  },
  {
   "cell_type": "code",
   "execution_count": 402,
   "metadata": {},
   "outputs": [
    {
     "name": "stdout",
     "output_type": "stream",
     "text": [
      "mean of each parameters are :  \n",
      "\n",
      "1653.3566666666666\n",
      "\n",
      "mean of the output is :  18.479573647208188\n",
      "\n",
      "total number of values are :  300\n"
     ]
    }
   ],
   "source": [
    "#finding mean of X_bar and Y_bar\n",
    "X_bar = np.mean(X)\n",
    "Y_bar = np.mean(Y)\n",
    "\n",
    "print(\"mean of each parameters are :  \")\n",
    "print(\"\")\n",
    "print(X_bar)\n",
    "print(\"\")\n",
    "print(\"mean of the output is : \", Y_mean)\n",
    "\n",
    "#total number of values\n",
    "n = len(X)\n",
    "\n",
    "\n",
    "print(\"\")\n",
    "print(\"total number of values are : \" , n)"
   ]
  },
  {
   "cell_type": "code",
   "execution_count": 403,
   "metadata": {},
   "outputs": [],
   "source": [
    "upper_value = 0\n",
    "lower_value = 0\n",
    "\n",
    "for i in range(n):\n",
    "    upper_value = upper_value + (X[i] - X_bar) * (Y[i] - Y_bar)\n",
    "    lower_value = lower_value + (X[i] - X_bar) ** 2\n",
    "\n",
    "\n",
    "M = upper_value / lower_value\n",
    "\n",
    "#bias\n",
    "C = Y_bar - ( b1 * X_bar)\n",
    "\n",
    "Y = C + M * x\n",
    "\n"
   ]
  },
  {
   "cell_type": "code",
   "execution_count": 405,
   "metadata": {},
   "outputs": [
    {
     "name": "stdout",
     "output_type": "stream",
     "text": [
      "accuracy :  88.93995408901168\n"
     ]
    }
   ],
   "source": [
    "#calculating performance\n",
    "\n",
    "# RMSE = ROOT((1/N)(SUM(Yi -Y_th_PREDTICED)))\n",
    "\n",
    "RMSE= 0\n",
    "\n",
    "for i in range(n):\n",
    "    predicted_Y =  M * X[i] + C\n",
    "    RMSE += (Y[i] -  predicted_Y) ** 2\n",
    "    RMSE = np.sqrt(RMSE/n)\n",
    "    \n",
    "print(\"accuracy : \",RMSE)    "
   ]
  },
  {
   "cell_type": "code",
   "execution_count": null,
   "metadata": {},
   "outputs": [],
   "source": []
  },
  {
   "cell_type": "code",
   "execution_count": null,
   "metadata": {},
   "outputs": [],
   "source": []
  }
 ],
 "metadata": {
  "kernelspec": {
   "display_name": "Python 3",
   "language": "python",
   "name": "python3"
  },
  "language_info": {
   "codemirror_mode": {
    "name": "ipython",
    "version": 3
   },
   "file_extension": ".py",
   "mimetype": "text/x-python",
   "name": "python",
   "nbconvert_exporter": "python",
   "pygments_lexer": "ipython3",
   "version": "3.6.5"
  }
 },
 "nbformat": 4,
 "nbformat_minor": 2
}
