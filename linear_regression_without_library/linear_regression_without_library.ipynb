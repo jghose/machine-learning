{
 "cells": [
  {
   "cell_type": "code",
   "execution_count": 4,
   "metadata": {},
   "outputs": [],
   "source": [
    "%matplotlib inline\n",
    "import numpy as np\n",
    "import matplotlib.pyplot as plt\n",
    "import pandas as pd\n",
    "import glob\n",
    "\n"
   ]
  },
  {
   "cell_type": "code",
   "execution_count": 5,
   "metadata": {},
   "outputs": [
    {
     "name": "stdout",
     "output_type": "stream",
     "text": [
      "<class 'pandas.core.frame.DataFrame'>\n",
      "RangeIndex: 9471 entries, 0 to 9470\n",
      "Data columns (total 17 columns):\n",
      "Date             9357 non-null object\n",
      "Time             9357 non-null object\n",
      "CO(GT)           9357 non-null float64\n",
      "PT08.S1(CO)      9357 non-null float64\n",
      "NMHC(GT)         9357 non-null float64\n",
      "C6H6(GT)         9357 non-null float64\n",
      "PT08.S2(NMHC)    9357 non-null float64\n",
      "NOx(GT)          9357 non-null float64\n",
      "PT08.S3(NOx)     9357 non-null float64\n",
      "NO2(GT)          9357 non-null float64\n",
      "PT08.S4(NO2)     9357 non-null float64\n",
      "PT08.S5(O3)      9357 non-null float64\n",
      "T                9357 non-null float64\n",
      "RH               9357 non-null float64\n",
      "AH               9357 non-null float64\n",
      "Unnamed: 15      0 non-null float64\n",
      "Unnamed: 16      0 non-null float64\n",
      "dtypes: float64(15), object(2)\n",
      "memory usage: 1.2+ MB\n"
     ]
    }
   ],
   "source": [
    "#Reading data \n",
    "\n",
    "data= pd.read_csv('AirQualityUCI.csv')\n",
    "data.info()\n"
   ]
  },
  {
   "cell_type": "code",
   "execution_count": 6,
   "metadata": {
    "scrolled": true
   },
   "outputs": [
    {
     "name": "stdout",
     "output_type": "stream",
     "text": [
      "finding correlation between PT08.S4(NO2) and PT08.S5(O3) =  0.7236584719357966\n"
     ]
    }
   ],
   "source": [
    "#initializing inputs and outputs\n",
    "\n",
    "\n",
    "X1 = data['PT08.S4(NO2)'] #changing different paraments of data will change the accuracy \n",
    "\n",
    "X= X1.head(300)\n",
    "Y = data['PT08.S5(O3)']\n",
    "\n",
    "# correlation between data\n",
    "correlation = data[\"PT08.S4(NO2)\"].corr(data[\"PT08.S5(O3)\"], method=\"pearson\")\n",
    "print(\"finding correlation between PT08.S4(NO2) and PT08.S5(O3) = \",correlation)\n"
   ]
  },
  {
   "cell_type": "code",
   "execution_count": 7,
   "metadata": {},
   "outputs": [],
   "source": [
    "# formula\n",
    "# m =  SUM( (Xi-X_bar)(Yi-Y_bar) ) / SUM((Xi-Xbar)^2)\n",
    "\n",
    "# c = Y- b1 * X\n",
    "\n",
    "# Y = b1 * x + b0\n",
    "\n",
    "# Xi= inputs\n",
    "\n",
    "# X_bar= mean of input variables\n",
    "\n",
    "# Yi= outputs\n",
    "\n",
    "# Y_bar= mean of output variables\n",
    "\n",
    "\n",
    "# RMSE = ROOT((1/N)(SUM(Yi -Y_th_PREDTICED)))\n"
   ]
  },
  {
   "cell_type": "code",
   "execution_count": 11,
   "metadata": {},
   "outputs": [
    {
     "name": "stdout",
     "output_type": "stream",
     "text": [
      "mean of each parameters are :  \n",
      "\n",
      "1653.3566666666666\n",
      "\n",
      "mean of the output is :  974.9536176124826\n",
      "\n",
      "total number of values are :  300\n"
     ]
    }
   ],
   "source": [
    "#finding mean of X_bar and Y_bar\n",
    "X_bar = np.mean(X)\n",
    "Y_bar = np.mean(Y)\n",
    "\n",
    "print(\"mean of each parameters are :  \")\n",
    "print(\"\")\n",
    "print(X_bar)\n",
    "print(\"\")\n",
    "print(\"mean of the output is : \", Y_bar)\n",
    "\n",
    "#total number of values\n",
    "n = len(X)\n",
    "\n",
    "\n",
    "print(\"\")\n",
    "print(\"total number of values are : \" , n)"
   ]
  },
  {
   "cell_type": "code",
   "execution_count": 14,
   "metadata": {},
   "outputs": [],
   "source": [
    "upper_value = 0\n",
    "lower_value = 0\n",
    "\n",
    "for i in range(n):\n",
    "    upper_value = upper_value + (X[i] - X_bar) * (Y[i] - Y_bar)\n",
    "    lower_value = lower_value + (X[i] - X_bar) ** 2\n",
    "\n",
    "\n",
    "M = upper_value / lower_value\n",
    "\n",
    "#bias\n",
    "C = Y_bar - ( M * X_bar)\n",
    "\n",
    "Y = C + M * X\n",
    "\n"
   ]
  },
  {
   "cell_type": "code",
   "execution_count": 15,
   "metadata": {},
   "outputs": [
    {
     "name": "stdout",
     "output_type": "stream",
     "text": [
      "accuracy :  0.0\n"
     ]
    }
   ],
   "source": [
    "#calculating performance\n",
    "\n",
    "# RMSE = ROOT((1/N)(SUM(Yi -Y_th_PREDTICED)))\n",
    "\n",
    "RMSE= 0\n",
    "\n",
    "for i in range(n):\n",
    "    predicted_Y =  M * X[i] + C\n",
    "    RMSE += (Y[i] -  predicted_Y) ** 2\n",
    "    RMSE = np.sqrt(RMSE/n)\n",
    "    \n",
    "print(\"accuracy : \",RMSE)    "
   ]
  },
  {
   "cell_type": "code",
   "execution_count": 16,
   "metadata": {},
   "outputs": [
    {
     "name": "stdout",
     "output_type": "stream",
     "text": [
      "                            OLS Regression Results                            \n",
      "==============================================================================\n",
      "Dep. Variable:           PT08.S4(NO2)   R-squared:                       0.970\n",
      "Model:                            OLS   Adj. R-squared:                  0.970\n",
      "Method:                 Least Squares   F-statistic:                     9617.\n",
      "Date:                Fri, 07 Dec 2018   Prob (F-statistic):          2.15e-229\n",
      "Time:                        22:01:29   Log-Likelihood:                -2128.0\n",
      "No. Observations:                 300   AIC:                             4258.\n",
      "Df Residuals:                     299   BIC:                             4262.\n",
      "Df Model:                           1                                         \n",
      "Covariance Type:            nonrobust                                         \n",
      "================================================================================\n",
      "                   coef    std err          t      P>|t|      [0.025      0.975]\n",
      "--------------------------------------------------------------------------------\n",
      "PT08.S4(NO2)     1.5947      0.016     98.064      0.000       1.563       1.627\n",
      "==============================================================================\n",
      "Omnibus:                       40.989   Durbin-Watson:                   0.374\n",
      "Prob(Omnibus):                  0.000   Jarque-Bera (JB):               55.517\n",
      "Skew:                          -0.917   Prob(JB):                     8.80e-13\n",
      "Kurtosis:                       4.038   Cond. No.                         1.00\n",
      "==============================================================================\n",
      "\n",
      "Warnings:\n",
      "[1] Standard Errors assume that the covariance matrix of the errors is correctly specified.\n"
     ]
    }
   ],
   "source": [
    "import statsmodels.api as sm\n",
    "from statsmodels.sandbox.regression.predstd import wls_prediction_std\n",
    "\n",
    "model1=sm.OLS(X,Y)\n",
    "\n",
    "result=model1.fit()\n",
    "\n",
    "print(result.summary())"
   ]
  },
  {
   "cell_type": "code",
   "execution_count": null,
   "metadata": {},
   "outputs": [],
   "source": []
  }
 ],
 "metadata": {
  "kernelspec": {
   "display_name": "Python 3",
   "language": "python",
   "name": "python3"
  },
  "language_info": {
   "codemirror_mode": {
    "name": "ipython",
    "version": 3
   },
   "file_extension": ".py",
   "mimetype": "text/x-python",
   "name": "python",
   "nbconvert_exporter": "python",
   "pygments_lexer": "ipython3",
   "version": "3.6.5"
  }
 },
 "nbformat": 4,
 "nbformat_minor": 2
}
