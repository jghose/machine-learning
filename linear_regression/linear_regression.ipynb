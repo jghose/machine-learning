{
 "cells": [
  {
   "cell_type": "code",
   "execution_count": 15,
   "metadata": {},
   "outputs": [],
   "source": [
    "import pandas as pd\n",
    "import numpy as np\n",
    "import matplotlib.pyplot as plt    \n",
    "import seaborn as sns\n",
    "%matplotlib inline\n",
    "import glob"
   ]
  },
  {
   "cell_type": "code",
   "execution_count": 16,
   "metadata": {},
   "outputs": [
    {
     "name": "stdout",
     "output_type": "stream",
     "text": [
      "              Date  Longitude  Latitude  Elevation  Max Temperature  \\\n",
      "1/1/1979   84.0625    22.0121       220     28.326            9.203   \n",
      "1/2/1979   84.0625    22.0121       220     27.250            9.656   \n",
      "1/3/1979   84.0625    22.0121       220     28.410            9.948   \n",
      "1/4/1979   84.0625    22.0121       220     27.590           12.280   \n",
      "1/5/1979   84.0625    22.0121       220     27.595           11.640   \n",
      "1/6/1979   84.0625    22.0121       220     25.919           10.602   \n",
      "1/7/1979   84.0625    22.0121       220     27.277            8.853   \n",
      "1/8/1979   84.0625    22.0121       220     27.859           10.353   \n",
      "1/9/1979   84.0625    22.0121       220     27.689           10.601   \n",
      "1/10/1979  84.0625    22.0121       220     28.947           10.459   \n",
      "1/11/1979  84.0625    22.0121       220     29.268           10.777   \n",
      "1/12/1979  84.0625    22.0121       220     28.529            9.689   \n",
      "1/13/1979  84.0625    22.0121       220     29.270           10.135   \n",
      "1/14/1979  84.0625    22.0121       220     29.881            9.265   \n",
      "1/15/1979  84.0625    22.0121       220     29.559           11.576   \n",
      "1/16/1979  84.0625    22.0121       220     28.586           12.336   \n",
      "1/17/1979  84.0625    22.0121       220     27.023           12.110   \n",
      "1/18/1979  84.0625    22.0121       220     24.880           16.812   \n",
      "1/19/1979  84.0625    22.0121       220     26.790           16.134   \n",
      "1/20/1979  84.0625    22.0121       220     29.712           14.525   \n",
      "1/21/1979  84.0625    22.0121       220     31.155           18.651   \n",
      "1/22/1979  84.0625    22.0121       220     21.044           17.719   \n",
      "1/23/1979  84.0625    22.0121       220     29.051           16.160   \n",
      "1/24/1979  84.0625    22.0121       220     30.708           15.248   \n",
      "1/25/1979  84.0625    22.0121       220     26.150            6.726   \n",
      "1/26/1979  84.0625    22.0121       220     26.099            5.007   \n",
      "1/27/1979  84.0625    22.0121       220     30.293            5.878   \n",
      "1/28/1979  84.0625    22.0121       220     28.502           15.052   \n",
      "1/29/1979  84.0625    22.0121       220     24.454           16.187   \n",
      "1/30/1979  84.0625    22.0121       220     30.709           17.252   \n",
      "...            ...        ...       ...        ...              ...   \n",
      "7/2/2014   85.6250    22.6366       278     33.297           23.917   \n",
      "7/3/2014   85.6250    22.6366       278     24.692           23.902   \n",
      "7/4/2014   85.6250    22.6366       278     28.288           22.847   \n",
      "7/5/2014   85.6250    22.6366       278     31.533           23.640   \n",
      "7/6/2014   85.6250    22.6366       278     32.619           24.114   \n",
      "7/7/2014   85.6250    22.6366       278     35.018           23.336   \n",
      "7/8/2014   85.6250    22.6366       278     36.930           24.729   \n",
      "7/9/2014   85.6250    22.6366       278     38.243           24.964   \n",
      "7/10/2014  85.6250    22.6366       278     37.813           25.701   \n",
      "7/11/2014  85.6250    22.6366       278     36.964           24.490   \n",
      "7/12/2014  85.6250    22.6366       278     34.700           24.539   \n",
      "7/13/2014  85.6250    22.6366       278     30.630           25.130   \n",
      "7/14/2014  85.6250    22.6366       278     31.997           24.449   \n",
      "7/15/2014  85.6250    22.6366       278     30.393           24.219   \n",
      "7/16/2014  85.6250    22.6366       278     27.828           23.786   \n",
      "7/17/2014  85.6250    22.6366       278     29.941           23.462   \n",
      "7/18/2014  85.6250    22.6366       278     28.011           23.661   \n",
      "7/19/2014  85.6250    22.6366       278     28.448           23.851   \n",
      "7/20/2014  85.6250    22.6366       278     32.269           23.157   \n",
      "7/21/2014  85.6250    22.6366       278     26.583           24.435   \n",
      "7/22/2014  85.6250    22.6366       278     25.764           22.296   \n",
      "7/23/2014  85.6250    22.6366       278     24.357           21.617   \n",
      "7/24/2014  85.6250    22.6366       278     28.105           21.527   \n",
      "7/25/2014  85.6250    22.6366       278     29.641           20.615   \n",
      "7/26/2014  85.6250    22.6366       278     29.505           22.631   \n",
      "7/27/2014  85.6250    22.6366       278     29.440           23.753   \n",
      "7/28/2014  85.6250    22.6366       278     28.855           23.494   \n",
      "7/29/2014  85.6250    22.6366       278     27.567           23.908   \n",
      "7/30/2014  85.6250    22.6366       278     27.548           23.939   \n",
      "7/31/2014  85.6250    22.6366       278     27.831           23.737   \n",
      "\n",
      "           Min Temperature  Precipitation      Wind  Relative Humidity  Solar  \n",
      "1/1/1979          0.000000       1.085276  0.412087          17.245351    NaN  \n",
      "1/2/1979          0.000000       1.615483  0.381513          17.259015    NaN  \n",
      "1/3/1979          0.000000       1.645476  0.392386          17.122782    NaN  \n",
      "1/4/1979          0.000000       1.819508  0.472436          13.473622    NaN  \n",
      "1/5/1979          0.000000       2.171719  0.499075          17.063104    NaN  \n",
      "1/6/1979          0.000000       2.114872  0.377443          17.542237    NaN  \n",
      "1/7/1979          0.000000       1.457732  0.455762          17.468553    NaN  \n",
      "1/8/1979          0.000000       1.164169  0.456515          17.477883    NaN  \n",
      "1/9/1979          0.000000       1.733928  0.420873          17.490039    NaN  \n",
      "1/10/1979         0.000000       1.378746  0.453463          17.382486    NaN  \n",
      "1/11/1979         0.000000       1.244374  0.523075          17.534477    NaN  \n",
      "1/12/1979         0.000000       1.495857  0.412617          17.913547    NaN  \n",
      "1/13/1979         0.000000       1.466146  0.425628          17.919283    NaN  \n",
      "1/14/1979         0.000000       1.399677  0.484102          17.703958    NaN  \n",
      "1/15/1979         0.000000       1.478284  0.449088          17.589605    NaN  \n",
      "1/16/1979         0.000000       2.075883  0.442905          17.488349    NaN  \n",
      "1/17/1979         0.000000       2.043896  0.575820          11.710912    NaN  \n",
      "1/18/1979         0.000000       1.619075  0.642640           5.497256    NaN  \n",
      "1/19/1979         0.000000       2.240728  0.546933          15.503739    NaN  \n",
      "1/20/1979         0.106430       1.837071  0.571537          16.319815    NaN  \n",
      "1/21/1979         0.161362       2.200685  0.576721          11.750688    NaN  \n",
      "1/22/1979         2.075389       2.052880  0.760735           2.046263    NaN  \n",
      "1/23/1979         2.751734       2.051942  0.717106          16.302155    NaN  \n",
      "1/24/1979         0.036049       1.788191  0.641889          15.416834    NaN  \n",
      "1/25/1979         0.056648       2.346279  0.769035          16.805814    NaN  \n",
      "1/26/1979         0.000000       2.002964  0.806975          18.405842    NaN  \n",
      "1/27/1979         0.000000       0.964861  0.584293          18.353645    NaN  \n",
      "1/28/1979         0.000000       1.945018  0.416264          12.575808    NaN  \n",
      "1/29/1979         0.450611       2.008105  0.631184           3.722172    NaN  \n",
      "1/30/1979         0.420571       1.894789  0.581906          14.336490    NaN  \n",
      "...                    ...            ...       ...                ...    ...  \n",
      "7/2/2014          4.494093       2.654260  0.726769           9.514031    NaN  \n",
      "7/3/2014         29.841624       3.517828  0.896773           2.149093    NaN  \n",
      "7/4/2014          4.954152       2.468426  0.831819           6.712626    NaN  \n",
      "7/5/2014          3.819466       2.836205  0.748552          19.146386    NaN  \n",
      "7/6/2014          7.446665       2.937193  0.782403          23.894771    NaN  \n",
      "7/7/2014          0.813676       2.827479  0.696275          25.857940    NaN  \n",
      "7/8/2014          0.000000       3.347870  0.577454          26.508318    NaN  \n",
      "7/9/2014          0.000000       2.046749  0.460733          24.281430    NaN  \n",
      "7/10/2014         0.127029       1.372409  0.427444          19.839708    NaN  \n",
      "7/11/2014         0.127029       1.431222  0.577399          16.311241    NaN  \n",
      "7/12/2014         4.705236       2.518060  0.711717          25.259377    NaN  \n",
      "7/13/2014        15.732769       2.966486  0.860099          19.549926    NaN  \n",
      "7/14/2014        15.638348       2.198221  0.846058          19.788804    NaN  \n",
      "7/15/2014        37.549208       2.028714  0.875093          19.767515    NaN  \n",
      "7/16/2014         2.998925       2.489165  0.851713          14.951791    NaN  \n",
      "7/17/2014        26.240162       3.046638  0.856925          18.542203    NaN  \n",
      "7/18/2014         4.113002       2.713581  0.853704          10.218775    NaN  \n",
      "7/19/2014         3.206635       3.110141  0.875472           8.680741    NaN  \n",
      "7/20/2014        32.207105       1.920660  0.889091          14.186653    NaN  \n",
      "7/21/2014        27.431487       1.639318  0.939025           4.768242    NaN  \n",
      "7/22/2014         5.877684       2.848351  0.910583           4.232273    NaN  \n",
      "7/23/2014         1.016236       2.204295  0.866111           4.666152    NaN  \n",
      "7/24/2014         0.157928       2.863041  0.809545          23.447147    NaN  \n",
      "7/25/2014         4.442597       1.928271  0.811252          18.613274    NaN  \n",
      "7/26/2014        13.750074       1.581178  0.868056          20.213117    NaN  \n",
      "7/27/2014         3.146553       2.834366  0.893183          14.750180    NaN  \n",
      "7/28/2014         4.780770       2.884799  0.898006          16.806417    NaN  \n",
      "7/29/2014         7.338527       2.244636  0.924287           9.259524    NaN  \n",
      "7/30/2014         7.649234       2.409015  0.919404          11.907296    NaN  \n",
      "7/31/2014        14.350898       2.099457  0.929528          11.490857    NaN  \n",
      "\n",
      "[232704 rows x 10 columns]\n",
      "<class 'pandas.core.frame.DataFrame'>\n",
      "Index: 232704 entries, 1/1/1979 to 7/31/2014\n",
      "Data columns (total 10 columns):\n",
      "Date                 232704 non-null float64\n",
      "Longitude            232704 non-null float64\n",
      "Latitude             232704 non-null int64\n",
      "Elevation            232704 non-null float64\n",
      "Max Temperature      232704 non-null float64\n",
      "Min Temperature      232704 non-null float64\n",
      "Precipitation        232704 non-null float64\n",
      "Wind                 232704 non-null float64\n",
      "Relative Humidity    232704 non-null float64\n",
      "Solar                0 non-null float64\n",
      "dtypes: float64(9), int64(1)\n",
      "memory usage: 19.5+ MB\n"
     ]
    }
   ],
   "source": [
    "# reading data sets\n",
    "\n",
    "path =r'data_set' \n",
    "allFiles = glob.glob(path + \"/*.csv\")\n",
    "data = pd.DataFrame()\n",
    "list_ = []\n",
    "for file_ in allFiles:\n",
    "    df = pd.read_csv(file_,index_col=None, header=0)\n",
    "    list_.append(df)\n",
    "data = pd.concat(list_)\n",
    "\n",
    "print(data)\n",
    "\n",
    "data.info()"
   ]
  },
  {
   "cell_type": "code",
   "execution_count": 17,
   "metadata": {
    "scrolled": true
   },
   "outputs": [
    {
     "data": {
      "text/html": [
       "<div>\n",
       "<style scoped>\n",
       "    .dataframe tbody tr th:only-of-type {\n",
       "        vertical-align: middle;\n",
       "    }\n",
       "\n",
       "    .dataframe tbody tr th {\n",
       "        vertical-align: top;\n",
       "    }\n",
       "\n",
       "    .dataframe thead th {\n",
       "        text-align: right;\n",
       "    }\n",
       "</style>\n",
       "<table border=\"1\" class=\"dataframe\">\n",
       "  <thead>\n",
       "    <tr style=\"text-align: right;\">\n",
       "      <th></th>\n",
       "      <th>Date</th>\n",
       "      <th>Longitude</th>\n",
       "      <th>Latitude</th>\n",
       "      <th>Elevation</th>\n",
       "      <th>Max Temperature</th>\n",
       "      <th>Min Temperature</th>\n",
       "      <th>Precipitation</th>\n",
       "      <th>Wind</th>\n",
       "      <th>Relative Humidity</th>\n",
       "      <th>Solar</th>\n",
       "    </tr>\n",
       "  </thead>\n",
       "  <tbody>\n",
       "    <tr>\n",
       "      <th>Date</th>\n",
       "      <td>1.000000e+00</td>\n",
       "      <td>-1.669025e-18</td>\n",
       "      <td>0.162171</td>\n",
       "      <td>-0.093996</td>\n",
       "      <td>-0.005303</td>\n",
       "      <td>0.007012</td>\n",
       "      <td>0.031348</td>\n",
       "      <td>0.104292</td>\n",
       "      <td>-0.005639</td>\n",
       "      <td>NaN</td>\n",
       "    </tr>\n",
       "    <tr>\n",
       "      <th>Longitude</th>\n",
       "      <td>-1.669025e-18</td>\n",
       "      <td>1.000000e+00</td>\n",
       "      <td>0.305575</td>\n",
       "      <td>-0.045245</td>\n",
       "      <td>-0.021783</td>\n",
       "      <td>-0.033192</td>\n",
       "      <td>0.059347</td>\n",
       "      <td>-0.050034</td>\n",
       "      <td>-0.008042</td>\n",
       "      <td>NaN</td>\n",
       "    </tr>\n",
       "    <tr>\n",
       "      <th>Latitude</th>\n",
       "      <td>1.621712e-01</td>\n",
       "      <td>3.055748e-01</td>\n",
       "      <td>1.000000</td>\n",
       "      <td>-0.072783</td>\n",
       "      <td>-0.022707</td>\n",
       "      <td>0.003339</td>\n",
       "      <td>0.044267</td>\n",
       "      <td>0.017389</td>\n",
       "      <td>-0.035493</td>\n",
       "      <td>NaN</td>\n",
       "    </tr>\n",
       "    <tr>\n",
       "      <th>Elevation</th>\n",
       "      <td>-9.399621e-02</td>\n",
       "      <td>-4.524474e-02</td>\n",
       "      <td>-0.072783</td>\n",
       "      <td>1.000000</td>\n",
       "      <td>0.473025</td>\n",
       "      <td>-0.210205</td>\n",
       "      <td>0.088988</td>\n",
       "      <td>-0.619283</td>\n",
       "      <td>0.536612</td>\n",
       "      <td>NaN</td>\n",
       "    </tr>\n",
       "    <tr>\n",
       "      <th>Max Temperature</th>\n",
       "      <td>-5.302510e-03</td>\n",
       "      <td>-2.178322e-02</td>\n",
       "      <td>-0.022707</td>\n",
       "      <td>0.473025</td>\n",
       "      <td>1.000000</td>\n",
       "      <td>0.297506</td>\n",
       "      <td>0.247992</td>\n",
       "      <td>0.264103</td>\n",
       "      <td>0.093644</td>\n",
       "      <td>NaN</td>\n",
       "    </tr>\n",
       "    <tr>\n",
       "      <th>Min Temperature</th>\n",
       "      <td>7.012027e-03</td>\n",
       "      <td>-3.319159e-02</td>\n",
       "      <td>0.003339</td>\n",
       "      <td>-0.210205</td>\n",
       "      <td>0.297506</td>\n",
       "      <td>1.000000</td>\n",
       "      <td>0.115765</td>\n",
       "      <td>0.475898</td>\n",
       "      <td>-0.247351</td>\n",
       "      <td>NaN</td>\n",
       "    </tr>\n",
       "    <tr>\n",
       "      <th>Precipitation</th>\n",
       "      <td>3.134789e-02</td>\n",
       "      <td>5.934654e-02</td>\n",
       "      <td>0.044267</td>\n",
       "      <td>0.088988</td>\n",
       "      <td>0.247992</td>\n",
       "      <td>0.115765</td>\n",
       "      <td>1.000000</td>\n",
       "      <td>-0.071041</td>\n",
       "      <td>-0.077303</td>\n",
       "      <td>NaN</td>\n",
       "    </tr>\n",
       "    <tr>\n",
       "      <th>Wind</th>\n",
       "      <td>1.042920e-01</td>\n",
       "      <td>-5.003378e-02</td>\n",
       "      <td>0.017389</td>\n",
       "      <td>-0.619283</td>\n",
       "      <td>0.264103</td>\n",
       "      <td>0.475898</td>\n",
       "      <td>-0.071041</td>\n",
       "      <td>1.000000</td>\n",
       "      <td>-0.404038</td>\n",
       "      <td>NaN</td>\n",
       "    </tr>\n",
       "    <tr>\n",
       "      <th>Relative Humidity</th>\n",
       "      <td>-5.639435e-03</td>\n",
       "      <td>-8.042329e-03</td>\n",
       "      <td>-0.035493</td>\n",
       "      <td>0.536612</td>\n",
       "      <td>0.093644</td>\n",
       "      <td>-0.247351</td>\n",
       "      <td>-0.077303</td>\n",
       "      <td>-0.404038</td>\n",
       "      <td>1.000000</td>\n",
       "      <td>NaN</td>\n",
       "    </tr>\n",
       "    <tr>\n",
       "      <th>Solar</th>\n",
       "      <td>NaN</td>\n",
       "      <td>NaN</td>\n",
       "      <td>NaN</td>\n",
       "      <td>NaN</td>\n",
       "      <td>NaN</td>\n",
       "      <td>NaN</td>\n",
       "      <td>NaN</td>\n",
       "      <td>NaN</td>\n",
       "      <td>NaN</td>\n",
       "      <td>NaN</td>\n",
       "    </tr>\n",
       "  </tbody>\n",
       "</table>\n",
       "</div>"
      ],
      "text/plain": [
       "                           Date     Longitude  Latitude  Elevation  \\\n",
       "Date               1.000000e+00 -1.669025e-18  0.162171  -0.093996   \n",
       "Longitude         -1.669025e-18  1.000000e+00  0.305575  -0.045245   \n",
       "Latitude           1.621712e-01  3.055748e-01  1.000000  -0.072783   \n",
       "Elevation         -9.399621e-02 -4.524474e-02 -0.072783   1.000000   \n",
       "Max Temperature   -5.302510e-03 -2.178322e-02 -0.022707   0.473025   \n",
       "Min Temperature    7.012027e-03 -3.319159e-02  0.003339  -0.210205   \n",
       "Precipitation      3.134789e-02  5.934654e-02  0.044267   0.088988   \n",
       "Wind               1.042920e-01 -5.003378e-02  0.017389  -0.619283   \n",
       "Relative Humidity -5.639435e-03 -8.042329e-03 -0.035493   0.536612   \n",
       "Solar                       NaN           NaN       NaN        NaN   \n",
       "\n",
       "                   Max Temperature  Min Temperature  Precipitation      Wind  \\\n",
       "Date                     -0.005303         0.007012       0.031348  0.104292   \n",
       "Longitude                -0.021783        -0.033192       0.059347 -0.050034   \n",
       "Latitude                 -0.022707         0.003339       0.044267  0.017389   \n",
       "Elevation                 0.473025        -0.210205       0.088988 -0.619283   \n",
       "Max Temperature           1.000000         0.297506       0.247992  0.264103   \n",
       "Min Temperature           0.297506         1.000000       0.115765  0.475898   \n",
       "Precipitation             0.247992         0.115765       1.000000 -0.071041   \n",
       "Wind                      0.264103         0.475898      -0.071041  1.000000   \n",
       "Relative Humidity         0.093644        -0.247351      -0.077303 -0.404038   \n",
       "Solar                          NaN              NaN            NaN       NaN   \n",
       "\n",
       "                   Relative Humidity  Solar  \n",
       "Date                       -0.005639    NaN  \n",
       "Longitude                  -0.008042    NaN  \n",
       "Latitude                   -0.035493    NaN  \n",
       "Elevation                   0.536612    NaN  \n",
       "Max Temperature             0.093644    NaN  \n",
       "Min Temperature            -0.247351    NaN  \n",
       "Precipitation              -0.077303    NaN  \n",
       "Wind                       -0.404038    NaN  \n",
       "Relative Humidity           1.000000    NaN  \n",
       "Solar                            NaN    NaN  "
      ]
     },
     "execution_count": 17,
     "metadata": {},
     "output_type": "execute_result"
    }
   ],
   "source": [
    "#looking at the data relations\n",
    "data.corr()"
   ]
  },
  {
   "cell_type": "code",
   "execution_count": 18,
   "metadata": {},
   "outputs": [
    {
     "name": "stdout",
     "output_type": "stream",
     "text": [
      "0.24799221104417463\n",
      "0.2641026557028283\n",
      "0.09364364329220709\n"
     ]
    },
    {
     "data": {
      "text/plain": [
       "<matplotlib.collections.PathCollection at 0x29f675aa080>"
      ]
     },
     "execution_count": 18,
     "metadata": {},
     "output_type": "execute_result"
    },
    {
     "data": {
      "image/png": "[encoded data removed]",
      "text/plain": [
       "<Figure size 432x288 with 1 Axes>"
      ]
     },
     "metadata": {},
     "output_type": "display_data"
    }
   ],
   "source": [
    "#checking relations between datas\n",
    "\n",
    "correlation1 = data[\"Max Temperature\"].corr(data[\"Precipitation\"], method=\"pearson\")\n",
    "print(correlation1)\n",
    "\n",
    "correlation2 = data[\"Max Temperature\"].corr(data[\"Wind\"], method=\"pearson\")\n",
    "print(correlation2)\n",
    "\n",
    "correlation3 = data[\"Max Temperature\"].corr(data[\"Relative Humidity\"], method=\"pearson\")\n",
    "print(correlation3)\n",
    "\n",
    "\n",
    "\n",
    "plt.scatter('Max Temperature','Relative Humidity')"
   ]
  },
  {
   "cell_type": "code",
   "execution_count": 19,
   "metadata": {},
   "outputs": [],
   "source": [
    "\n",
    "\n",
    "# defining data\n",
    "X = data[['Precipitation','Wind', 'Relative Humidity']]\n",
    "y = data['Max Temperature']"
   ]
  },
  {
   "cell_type": "code",
   "execution_count": 20,
   "metadata": {},
   "outputs": [],
   "source": [
    "from sklearn.cross_validation import train_test_split\n",
    "X_train, X_test, y_train, y_test = train_test_split(X, y, test_size=0.2, random_state=0)"
   ]
  },
  {
   "cell_type": "code",
   "execution_count": 21,
   "metadata": {},
   "outputs": [
    {
     "name": "stdout",
     "output_type": "stream",
     "text": [
      "(186163, 3)\n",
      "(46541, 3)\n",
      "(186163,)\n",
      "(46541,)\n"
     ]
    }
   ],
   "source": [
    "print(X_train.shape)\n",
    "print(X_test.shape)\n",
    "print(y_train.shape)\n",
    "print(y_test.shape)"
   ]
  },
  {
   "cell_type": "code",
   "execution_count": 22,
   "metadata": {},
   "outputs": [
    {
     "data": {
      "text/plain": [
       "LinearRegression(copy_X=True, fit_intercept=True, n_jobs=1, normalize=False)"
      ]
     },
     "execution_count": 22,
     "metadata": {},
     "output_type": "execute_result"
    }
   ],
   "source": [
    "# using linear regression algo\n",
    "from sklearn.linear_model import LinearRegression\n",
    "linear_model = LinearRegression()\n",
    "linear_model.fit(X_train,y_train)\n"
   ]
  },
  {
   "cell_type": "code",
   "execution_count": 23,
   "metadata": {},
   "outputs": [
    {
     "name": "stdout",
     "output_type": "stream",
     "text": [
      "[19.18832863 16.63303841 17.28175237 ... 17.07206399 17.25315077\n",
      " 19.41369353]\n"
     ]
    }
   ],
   "source": [
    "# predicting the value of y for X\n",
    "\n",
    "\n",
    "y_prediction = linear_model.predict(X_test)\n",
    "print(y_prediction)"
   ]
  },
  {
   "cell_type": "code",
   "execution_count": 26,
   "metadata": {},
   "outputs": [
    {
     "data": {
      "text/plain": [
       "<matplotlib.collections.PathCollection at 0x29f5b981940>"
      ]
     },
     "execution_count": 26,
     "metadata": {},
     "output_type": "execute_result"
    },
    {
     "data": {
      "image/png": "[encoded data removed]",
      "text/plain": [
       "<Figure size 432x288 with 1 Axes>"
      ]
     },
     "metadata": {},
     "output_type": "display_data"
    }
   ],
   "source": [
    "plt.scatter(y_test,y_prediction)\n",
    "\n"
   ]
  },
  {
   "cell_type": "code",
   "execution_count": 25,
   "metadata": {},
   "outputs": [],
   "source": [
    "#finding error\n",
    "from sklearn.metrics import r2_score\n",
    "r2_score=(y_test, y_prediction)"
   ]
  },
  {
   "cell_type": "code",
   "execution_count": null,
   "metadata": {},
   "outputs": [],
   "source": []
  },
  {
   "cell_type": "code",
   "execution_count": null,
   "metadata": {},
   "outputs": [],
   "source": []
  }
 ],
 "metadata": {
  "kernelspec": {
   "display_name": "Python 3",
   "language": "python",
   "name": "python3"
  },
  "language_info": {
   "codemirror_mode": {
    "name": "ipython",
    "version": 3
   },
   "file_extension": ".py",
   "mimetype": "text/x-python",
   "name": "python",
   "nbconvert_exporter": "python",
   "pygments_lexer": "ipython3",
   "version": "3.6.5"
  }
 },
 "nbformat": 4,
 "nbformat_minor": 2
}
