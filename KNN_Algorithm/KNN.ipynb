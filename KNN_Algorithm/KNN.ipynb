{
 "cells": [
  {
   "cell_type": "code",
   "execution_count": 72,
   "metadata": {},
   "outputs": [],
   "source": [
    "import math\n",
    "import csv"
   ]
  },
  {
   "cell_type": "code",
   "execution_count": 73,
   "metadata": {},
   "outputs": [],
   "source": [
    "main=[] # all data \n",
    "\n",
    "train=[] # traning data 70%\n",
    "test=[]  # testing data 30%\n",
    "key=sum1=edist=0\n",
    "ftest=[]"
   ]
  },
  {
   "cell_type": "code",
   "execution_count": 74,
   "metadata": {},
   "outputs": [
    {
     "name": "stdout",
     "output_type": "stream",
     "text": [
      "100\n"
     ]
    }
   ],
   "source": [
    "\n",
    "with open('iris.csv') as csvfile:\n",
    "    reader = csv.reader(csvfile)\n",
    "    for row in reader:\n",
    "        main.append(row)\n",
    "print(len(main))\n",
    "        "
   ]
  },
  {
   "cell_type": "code",
   "execution_count": 75,
   "metadata": {},
   "outputs": [
    {
     "name": "stdout",
     "output_type": "stream",
     "text": [
      "70\n"
     ]
    }
   ],
   "source": [
    "# dividing data set for traning\n",
    "i = 0\n",
    "for i in range(len(main)-30):\n",
    "    train.append(main[i])\n",
    "print(len(train))    "
   ]
  },
  {
   "cell_type": "code",
   "execution_count": 76,
   "metadata": {},
   "outputs": [
    {
     "name": "stdout",
     "output_type": "stream",
     "text": [
      "30\n"
     ]
    }
   ],
   "source": [
    "# dividing data set for testing\n",
    "i=0\n",
    "for i in range(i+70, len(main)):\n",
    "    test.append(main[i])\n",
    "print(len(test))    "
   ]
  },
  {
   "cell_type": "code",
   "execution_count": 77,
   "metadata": {},
   "outputs": [
    {
     "name": "stdout",
     "output_type": "stream",
     "text": [
      "30\n"
     ]
    }
   ],
   "source": [
    "#writing final result in a new csv file\n",
    "\n",
    "i=0\n",
    "\n",
    "for i in range(len(test)):\n",
    "    ftest.append(test[i])\n",
    "print(len(ftest))    \n"
   ]
  },
  {
   "cell_type": "code",
   "execution_count": 78,
   "metadata": {},
   "outputs": [],
   "source": [
    "i=k=j=0\n",
    "for i in range(len(test)):\n",
    "    mini=float('inf')\n",
    "    for j in range(len(train)):\n",
    "        for k in range(4):\n",
    "            sum1 += pow((float(test[i][k]) - float(train[j][k])), 2)\n",
    "        edist=math.sqrt(sum1)\n",
    "        if(edist<mini):\n",
    "            mini=edist\n",
    "            key = j\n",
    "        sum1=0\n",
    "    ftest[i].append(train[key][4])\n",
    "    "
   ]
  },
  {
   "cell_type": "code",
   "execution_count": 79,
   "metadata": {},
   "outputs": [],
   "source": [
    "with open(\"final_test.csv\",\"w\") as f:\n",
    "    writer=csv.writer(f)\n",
    "    writer.writerows(ftest)"
   ]
  },
  {
   "cell_type": "code",
   "execution_count": 80,
   "metadata": {},
   "outputs": [
    {
     "name": "stdout",
     "output_type": "stream",
     "text": [
      "\n",
      "\n",
      "Accuracy = 76.6667 percent\n"
     ]
    }
   ],
   "source": [
    "count = 0\n",
    "for i in range(len(ftest)):\n",
    "    if(ftest[i][4]==ftest[i][5]):\n",
    "        count+=1\n",
    "    else:\n",
    "        continue\n",
    "\n",
    "acc = float(count/len(ftest))\n",
    "\n",
    "print (\"\\n\\nAccuracy = %0.4f percent\" % (acc*100))\n",
    "        "
   ]
  }
 ],
 "metadata": {
  "kernelspec": {
   "display_name": "Python 3",
   "language": "python",
   "name": "python3"
  },
  "language_info": {
   "codemirror_mode": {
    "name": "ipython",
    "version": 3
   },
   "file_extension": ".py",
   "mimetype": "text/x-python",
   "name": "python",
   "nbconvert_exporter": "python",
   "pygments_lexer": "ipython3",
   "version": "3.6.5"
  }
 },
 "nbformat": 4,
 "nbformat_minor": 2
}
