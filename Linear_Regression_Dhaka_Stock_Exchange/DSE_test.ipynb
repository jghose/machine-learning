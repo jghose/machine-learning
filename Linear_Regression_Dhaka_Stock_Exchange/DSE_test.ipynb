{
 "cells": [
  {
   "cell_type": "code",
   "execution_count": 425,
   "metadata": {},
   "outputs": [],
   "source": [
    "import pandas as pd\n",
    "import numpy as np \n",
    "import math\n"
   ]
  },
  {
   "cell_type": "code",
   "execution_count": 426,
   "metadata": {},
   "outputs": [
    {
     "data": {
      "text/html": [
       "<div>\n",
       "<style scoped>\n",
       "    .dataframe tbody tr th:only-of-type {\n",
       "        vertical-align: middle;\n",
       "    }\n",
       "\n",
       "    .dataframe tbody tr th {\n",
       "        vertical-align: top;\n",
       "    }\n",
       "\n",
       "    .dataframe thead th {\n",
       "        text-align: right;\n",
       "    }\n",
       "</style>\n",
       "<table border=\"1\" class=\"dataframe\">\n",
       "  <thead>\n",
       "    <tr style=\"text-align: right;\">\n",
       "      <th></th>\n",
       "      <th>Date</th>\n",
       "      <th>Price</th>\n",
       "      <th>Open</th>\n",
       "      <th>High</th>\n",
       "      <th>Low</th>\n",
       "      <th>Vol.</th>\n",
       "      <th>Change %</th>\n",
       "    </tr>\n",
       "  </thead>\n",
       "  <tbody>\n",
       "    <tr>\n",
       "      <th>0</th>\n",
       "      <td>Dec 12, 2018</td>\n",
       "      <td>5,265.84</td>\n",
       "      <td>5,275.76</td>\n",
       "      <td>5,292.94</td>\n",
       "      <td>5,259.87</td>\n",
       "      <td>-</td>\n",
       "      <td>-0.19%</td>\n",
       "    </tr>\n",
       "    <tr>\n",
       "      <th>1</th>\n",
       "      <td>Dec 11, 2018</td>\n",
       "      <td>5,275.76</td>\n",
       "      <td>5,295.69</td>\n",
       "      <td>5,310.71</td>\n",
       "      <td>5,259.40</td>\n",
       "      <td>-</td>\n",
       "      <td>-0.38%</td>\n",
       "    </tr>\n",
       "    <tr>\n",
       "      <th>2</th>\n",
       "      <td>Dec 10, 2018</td>\n",
       "      <td>5,295.69</td>\n",
       "      <td>5,306.22</td>\n",
       "      <td>5,329.41</td>\n",
       "      <td>5,281.14</td>\n",
       "      <td>-</td>\n",
       "      <td>-0.20%</td>\n",
       "    </tr>\n",
       "    <tr>\n",
       "      <th>3</th>\n",
       "      <td>Dec 09, 2018</td>\n",
       "      <td>5,306.22</td>\n",
       "      <td>5,332.80</td>\n",
       "      <td>5,345.42</td>\n",
       "      <td>5,305.68</td>\n",
       "      <td>-</td>\n",
       "      <td>-0.50%</td>\n",
       "    </tr>\n",
       "    <tr>\n",
       "      <th>4</th>\n",
       "      <td>Dec 06, 2018</td>\n",
       "      <td>5,332.80</td>\n",
       "      <td>5,361.11</td>\n",
       "      <td>5,370.24</td>\n",
       "      <td>5,326.29</td>\n",
       "      <td>-</td>\n",
       "      <td>-0.53%</td>\n",
       "    </tr>\n",
       "  </tbody>\n",
       "</table>\n",
       "</div>"
      ],
      "text/plain": [
       "           Date     Price      Open      High       Low Vol. Change %\n",
       "0  Dec 12, 2018  5,265.84  5,275.76  5,292.94  5,259.87    -   -0.19%\n",
       "1  Dec 11, 2018  5,275.76  5,295.69  5,310.71  5,259.40    -   -0.38%\n",
       "2  Dec 10, 2018  5,295.69  5,306.22  5,329.41  5,281.14    -   -0.20%\n",
       "3  Dec 09, 2018  5,306.22  5,332.80  5,345.42  5,305.68    -   -0.50%\n",
       "4  Dec 06, 2018  5,332.80  5,361.11  5,370.24  5,326.29    -   -0.53%"
      ]
     },
     "execution_count": 426,
     "metadata": {},
     "output_type": "execute_result"
    }
   ],
   "source": [
    "data= pd.read_csv('Dhaka_scock.csv')\n",
    "\n",
    "data.head()\n"
   ]
  },
  {
   "cell_type": "code",
   "execution_count": 427,
   "metadata": {},
   "outputs": [],
   "source": [
    "data.drop(['Vol.','Change %'],axis=1, inplace=True)"
   ]
  },
  {
   "cell_type": "code",
   "execution_count": 428,
   "metadata": {},
   "outputs": [
    {
     "name": "stdout",
     "output_type": "stream",
     "text": [
      "<class 'pandas.core.frame.DataFrame'>\n",
      "RangeIndex: 266 entries, 0 to 265\n",
      "Data columns (total 5 columns):\n",
      "Date     266 non-null object\n",
      "Price    266 non-null object\n",
      "Open     266 non-null object\n",
      "High     266 non-null object\n",
      "Low      266 non-null object\n",
      "dtypes: object(5)\n",
      "memory usage: 10.5+ KB\n"
     ]
    }
   ],
   "source": [
    "data.head()\n",
    "data.info()"
   ]
  },
  {
   "cell_type": "code",
   "execution_count": 429,
   "metadata": {},
   "outputs": [],
   "source": [
    "data[\"Price\"] = data[\"Price\"].str.replace(\",\",\"\").astype(float)"
   ]
  },
  {
   "cell_type": "code",
   "execution_count": 430,
   "metadata": {},
   "outputs": [],
   "source": [
    "data[\"Open\"] = data[\"Open\"].str.replace(\",\",\"\").astype(float)"
   ]
  },
  {
   "cell_type": "code",
   "execution_count": 431,
   "metadata": {},
   "outputs": [],
   "source": [
    "data[\"High\"] = data[\"High\"].str.replace(\",\",\"\").astype(float)"
   ]
  },
  {
   "cell_type": "code",
   "execution_count": 432,
   "metadata": {},
   "outputs": [],
   "source": [
    "data[\"Low\"] = data[\"Low\"].str.replace(\",\",\"\").astype(float)"
   ]
  },
  {
   "cell_type": "code",
   "execution_count": null,
   "metadata": {},
   "outputs": [],
   "source": []
  },
  {
   "cell_type": "code",
   "execution_count": 433,
   "metadata": {},
   "outputs": [
    {
     "data": {
      "text/html": [
       "<div>\n",
       "<style scoped>\n",
       "    .dataframe tbody tr th:only-of-type {\n",
       "        vertical-align: middle;\n",
       "    }\n",
       "\n",
       "    .dataframe tbody tr th {\n",
       "        vertical-align: top;\n",
       "    }\n",
       "\n",
       "    .dataframe thead th {\n",
       "        text-align: right;\n",
       "    }\n",
       "</style>\n",
       "<table border=\"1\" class=\"dataframe\">\n",
       "  <thead>\n",
       "    <tr style=\"text-align: right;\">\n",
       "      <th></th>\n",
       "      <th>Date</th>\n",
       "      <th>Price</th>\n",
       "      <th>Open</th>\n",
       "      <th>High</th>\n",
       "      <th>Low</th>\n",
       "    </tr>\n",
       "  </thead>\n",
       "  <tbody>\n",
       "    <tr>\n",
       "      <th>0</th>\n",
       "      <td>Dec 12, 2018</td>\n",
       "      <td>5265.84</td>\n",
       "      <td>5275.76</td>\n",
       "      <td>5292.94</td>\n",
       "      <td>5259.87</td>\n",
       "    </tr>\n",
       "    <tr>\n",
       "      <th>1</th>\n",
       "      <td>Dec 11, 2018</td>\n",
       "      <td>5275.76</td>\n",
       "      <td>5295.69</td>\n",
       "      <td>5310.71</td>\n",
       "      <td>5259.40</td>\n",
       "    </tr>\n",
       "    <tr>\n",
       "      <th>2</th>\n",
       "      <td>Dec 10, 2018</td>\n",
       "      <td>5295.69</td>\n",
       "      <td>5306.22</td>\n",
       "      <td>5329.41</td>\n",
       "      <td>5281.14</td>\n",
       "    </tr>\n",
       "    <tr>\n",
       "      <th>3</th>\n",
       "      <td>Dec 09, 2018</td>\n",
       "      <td>5306.22</td>\n",
       "      <td>5332.80</td>\n",
       "      <td>5345.42</td>\n",
       "      <td>5305.68</td>\n",
       "    </tr>\n",
       "    <tr>\n",
       "      <th>4</th>\n",
       "      <td>Dec 06, 2018</td>\n",
       "      <td>5332.80</td>\n",
       "      <td>5361.11</td>\n",
       "      <td>5370.24</td>\n",
       "      <td>5326.29</td>\n",
       "    </tr>\n",
       "  </tbody>\n",
       "</table>\n",
       "</div>"
      ],
      "text/plain": [
       "           Date    Price     Open     High      Low\n",
       "0  Dec 12, 2018  5265.84  5275.76  5292.94  5259.87\n",
       "1  Dec 11, 2018  5275.76  5295.69  5310.71  5259.40\n",
       "2  Dec 10, 2018  5295.69  5306.22  5329.41  5281.14\n",
       "3  Dec 09, 2018  5306.22  5332.80  5345.42  5305.68\n",
       "4  Dec 06, 2018  5332.80  5361.11  5370.24  5326.29"
      ]
     },
     "execution_count": 433,
     "metadata": {},
     "output_type": "execute_result"
    }
   ],
   "source": [
    "data.head()"
   ]
  },
  {
   "cell_type": "code",
   "execution_count": 434,
   "metadata": {},
   "outputs": [
    {
     "data": {
      "text/plain": [
       "Date     0\n",
       "Price    0\n",
       "Open     0\n",
       "High     0\n",
       "Low      0\n",
       "dtype: int64"
      ]
     },
     "execution_count": 434,
     "metadata": {},
     "output_type": "execute_result"
    }
   ],
   "source": [
    "\n",
    "data.isnull().sum()"
   ]
  },
  {
   "cell_type": "code",
   "execution_count": 435,
   "metadata": {},
   "outputs": [
    {
     "data": {
      "text/html": [
       "<div>\n",
       "<style scoped>\n",
       "    .dataframe tbody tr th:only-of-type {\n",
       "        vertical-align: middle;\n",
       "    }\n",
       "\n",
       "    .dataframe tbody tr th {\n",
       "        vertical-align: top;\n",
       "    }\n",
       "\n",
       "    .dataframe thead th {\n",
       "        text-align: right;\n",
       "    }\n",
       "</style>\n",
       "<table border=\"1\" class=\"dataframe\">\n",
       "  <thead>\n",
       "    <tr style=\"text-align: right;\">\n",
       "      <th></th>\n",
       "      <th>Date</th>\n",
       "      <th>Price</th>\n",
       "      <th>Open</th>\n",
       "      <th>High</th>\n",
       "      <th>Low</th>\n",
       "      <th>Change</th>\n",
       "    </tr>\n",
       "  </thead>\n",
       "  <tbody>\n",
       "    <tr>\n",
       "      <th>0</th>\n",
       "      <td>Dec 12, 2018</td>\n",
       "      <td>5265.84</td>\n",
       "      <td>5275.76</td>\n",
       "      <td>5292.94</td>\n",
       "      <td>5259.87</td>\n",
       "      <td>33.07</td>\n",
       "    </tr>\n",
       "    <tr>\n",
       "      <th>1</th>\n",
       "      <td>Dec 11, 2018</td>\n",
       "      <td>5275.76</td>\n",
       "      <td>5295.69</td>\n",
       "      <td>5310.71</td>\n",
       "      <td>5259.40</td>\n",
       "      <td>51.31</td>\n",
       "    </tr>\n",
       "    <tr>\n",
       "      <th>2</th>\n",
       "      <td>Dec 10, 2018</td>\n",
       "      <td>5295.69</td>\n",
       "      <td>5306.22</td>\n",
       "      <td>5329.41</td>\n",
       "      <td>5281.14</td>\n",
       "      <td>48.27</td>\n",
       "    </tr>\n",
       "    <tr>\n",
       "      <th>3</th>\n",
       "      <td>Dec 09, 2018</td>\n",
       "      <td>5306.22</td>\n",
       "      <td>5332.80</td>\n",
       "      <td>5345.42</td>\n",
       "      <td>5305.68</td>\n",
       "      <td>39.74</td>\n",
       "    </tr>\n",
       "    <tr>\n",
       "      <th>4</th>\n",
       "      <td>Dec 06, 2018</td>\n",
       "      <td>5332.80</td>\n",
       "      <td>5361.11</td>\n",
       "      <td>5370.24</td>\n",
       "      <td>5326.29</td>\n",
       "      <td>43.95</td>\n",
       "    </tr>\n",
       "  </tbody>\n",
       "</table>\n",
       "</div>"
      ],
      "text/plain": [
       "           Date    Price     Open     High      Low  Change\n",
       "0  Dec 12, 2018  5265.84  5275.76  5292.94  5259.87   33.07\n",
       "1  Dec 11, 2018  5275.76  5295.69  5310.71  5259.40   51.31\n",
       "2  Dec 10, 2018  5295.69  5306.22  5329.41  5281.14   48.27\n",
       "3  Dec 09, 2018  5306.22  5332.80  5345.42  5305.68   39.74\n",
       "4  Dec 06, 2018  5332.80  5361.11  5370.24  5326.29   43.95"
      ]
     },
     "execution_count": 435,
     "metadata": {},
     "output_type": "execute_result"
    }
   ],
   "source": [
    "data['Change'] = data['High']- data['Low']\n",
    "\n",
    "data.head()"
   ]
  },
  {
   "cell_type": "code",
   "execution_count": 436,
   "metadata": {},
   "outputs": [],
   "source": [
    "#date = {'Jan':1, 'Feb':2 ,'Mar':3, 'Apr':4, 'May':5, 'Jun':6, 'Jul':7, 'Aug':8,'Sep':9, 'Oct':10, 'Nov': 11 , 'Dec': 12  } \n",
    "  \n",
    "\n",
    "#data.Date = [date[item] for item in data.Date] \n",
    "#print(data) "
   ]
  },
  {
   "cell_type": "code",
   "execution_count": 437,
   "metadata": {},
   "outputs": [
    {
     "data": {
      "text/plain": [
       "Date      0\n",
       "Price     0\n",
       "Open      0\n",
       "High      0\n",
       "Low       0\n",
       "Change    0\n",
       "dtype: int64"
      ]
     },
     "execution_count": 437,
     "metadata": {},
     "output_type": "execute_result"
    }
   ],
   "source": [
    "data.isnull().sum()"
   ]
  },
  {
   "cell_type": "code",
   "execution_count": 438,
   "metadata": {},
   "outputs": [
    {
     "name": "stdout",
     "output_type": "stream",
     "text": [
      "<class 'pandas.core.frame.DataFrame'>\n",
      "Int64Index: 266 entries, 0 to 265\n",
      "Data columns (total 6 columns):\n",
      "Date      266 non-null object\n",
      "Price     266 non-null float64\n",
      "Open      266 non-null float64\n",
      "High      266 non-null float64\n",
      "Low       266 non-null float64\n",
      "Change    266 non-null float64\n",
      "dtypes: float64(5), object(1)\n",
      "memory usage: 14.5+ KB\n"
     ]
    }
   ],
   "source": [
    "data.dropna(inplace=True)\n",
    "data.isnull().sum()\n",
    "data.head()\n",
    "data.info()"
   ]
  },
  {
   "cell_type": "code",
   "execution_count": 439,
   "metadata": {},
   "outputs": [
    {
     "data": {
      "text/html": [
       "<div>\n",
       "<style scoped>\n",
       "    .dataframe tbody tr th:only-of-type {\n",
       "        vertical-align: middle;\n",
       "    }\n",
       "\n",
       "    .dataframe tbody tr th {\n",
       "        vertical-align: top;\n",
       "    }\n",
       "\n",
       "    .dataframe thead th {\n",
       "        text-align: right;\n",
       "    }\n",
       "</style>\n",
       "<table border=\"1\" class=\"dataframe\">\n",
       "  <thead>\n",
       "    <tr style=\"text-align: right;\">\n",
       "      <th></th>\n",
       "      <th>Price</th>\n",
       "      <th>Open</th>\n",
       "      <th>High</th>\n",
       "      <th>Low</th>\n",
       "      <th>Change</th>\n",
       "    </tr>\n",
       "  </thead>\n",
       "  <tbody>\n",
       "    <tr>\n",
       "      <th>0</th>\n",
       "      <td>5265.84</td>\n",
       "      <td>5275.76</td>\n",
       "      <td>5292.94</td>\n",
       "      <td>5259.87</td>\n",
       "      <td>33.07</td>\n",
       "    </tr>\n",
       "    <tr>\n",
       "      <th>1</th>\n",
       "      <td>5275.76</td>\n",
       "      <td>5295.69</td>\n",
       "      <td>5310.71</td>\n",
       "      <td>5259.40</td>\n",
       "      <td>51.31</td>\n",
       "    </tr>\n",
       "    <tr>\n",
       "      <th>2</th>\n",
       "      <td>5295.69</td>\n",
       "      <td>5306.22</td>\n",
       "      <td>5329.41</td>\n",
       "      <td>5281.14</td>\n",
       "      <td>48.27</td>\n",
       "    </tr>\n",
       "    <tr>\n",
       "      <th>3</th>\n",
       "      <td>5306.22</td>\n",
       "      <td>5332.80</td>\n",
       "      <td>5345.42</td>\n",
       "      <td>5305.68</td>\n",
       "      <td>39.74</td>\n",
       "    </tr>\n",
       "    <tr>\n",
       "      <th>4</th>\n",
       "      <td>5332.80</td>\n",
       "      <td>5361.11</td>\n",
       "      <td>5370.24</td>\n",
       "      <td>5326.29</td>\n",
       "      <td>43.95</td>\n",
       "    </tr>\n",
       "  </tbody>\n",
       "</table>\n",
       "</div>"
      ],
      "text/plain": [
       "     Price     Open     High      Low  Change\n",
       "0  5265.84  5275.76  5292.94  5259.87   33.07\n",
       "1  5275.76  5295.69  5310.71  5259.40   51.31\n",
       "2  5295.69  5306.22  5329.41  5281.14   48.27\n",
       "3  5306.22  5332.80  5345.42  5305.68   39.74\n",
       "4  5332.80  5361.11  5370.24  5326.29   43.95"
      ]
     },
     "execution_count": 439,
     "metadata": {},
     "output_type": "execute_result"
    }
   ],
   "source": [
    "data.drop(['Date'],axis=1, inplace=True)\n",
    "data.head()           "
   ]
  },
  {
   "cell_type": "code",
   "execution_count": 440,
   "metadata": {},
   "outputs": [],
   "source": [
    "from sklearn.linear_model import LinearRegression\n",
    "from sklearn.model_selection import train_test_split\n",
    "from sklearn.metrics import classification_report"
   ]
  },
  {
   "cell_type": "code",
   "execution_count": 441,
   "metadata": {},
   "outputs": [],
   "source": [
    "X= data[['Open','High','Low','Change']]\n",
    "y= data['Price']\n"
   ]
  },
  {
   "cell_type": "code",
   "execution_count": 442,
   "metadata": {},
   "outputs": [],
   "source": [
    "train_test_split = X_train, X_test, y_train, y_test = train_test_split(X, y, test_size=0.3, random_state=42)"
   ]
  },
  {
   "cell_type": "code",
   "execution_count": 443,
   "metadata": {},
   "outputs": [],
   "source": [
    "lin_reg = LinearRegression()\n",
    "lin_reg.fit(X_train,y_train)\n",
    "\n",
    "pred = lin_reg.predict(X_test)\n",
    "\n"
   ]
  },
  {
   "cell_type": "code",
   "execution_count": 444,
   "metadata": {},
   "outputs": [
    {
     "name": "stdout",
     "output_type": "stream",
     "text": [
      "0.9994917841331755\n"
     ]
    }
   ],
   "source": [
    "\n",
    "accuracy=lin_reg.score(X_test,y_test)\n",
    "\n",
    "print(accuracy)\n",
    "\n"
   ]
  },
  {
   "cell_type": "code",
   "execution_count": null,
   "metadata": {},
   "outputs": [],
   "source": []
  }
 ],
 "metadata": {
  "kernelspec": {
   "display_name": "Python 3",
   "language": "python",
   "name": "python3"
  },
  "language_info": {
   "codemirror_mode": {
    "name": "ipython",
    "version": 3
   },
   "file_extension": ".py",
   "mimetype": "text/x-python",
   "name": "python",
   "nbconvert_exporter": "python",
   "pygments_lexer": "ipython3",
   "version": "3.6.5"
  }
 },
 "nbformat": 4,
 "nbformat_minor": 2
}
